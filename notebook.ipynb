{
 "cells": [
  {
   "cell_type": "code",
   "execution_count": 2,
   "id": "356260ff",
   "metadata": {},
   "outputs": [],
   "source": [
    "from langchain.chat_models import ChatOpenAI\n",
    "from langchain.callbacks import StreamingStdOutCallbackHandler\n",
    "\n",
    "chat = ChatOpenAI(\n",
    "    model=\"gpt-3.5-turbo\",\n",
    "    temperature=0.1,\n",
    "    streaming=True,\n",
    "    callbacks=[StreamingStdOutCallbackHandler()],\n",
    ")"
   ]
  },
  {
   "cell_type": "code",
   "execution_count": 3,
   "id": "5aaca393",
   "metadata": {},
   "outputs": [],
   "source": [
    "examples = [\n",
    "    {\n",
    "        \"movie\": \"Inception\",\n",
    "        \"answer\": (\n",
    "            \"Title: Inception\\n\"\n",
    "            \"Director: Christopher Nolan\\n\"\n",
    "            \"Main Cast: Leonardo DiCaprio, Joseph Gordon-Levitt, Ellen Page\\n\"\n",
    "            \"Budget: $160 million\\n\"\n",
    "            \"Box Office: $836.8 million\\n\"\n",
    "            \"Genre: Sci-Fi, Thriller\\n\"\n",
    "            \"Synopsis: A thief who enters people's dreams is given a task to plant an idea in someone's mind.\"\n",
    "        ),\n",
    "    },\n",
    "    {\n",
    "        \"movie\": \"The Godfather\",\n",
    "        \"answer\": (\n",
    "            \"Title: The Godfather\\n\"\n",
    "            \"Director: Francis Ford Coppola\\n\"\n",
    "            \"Main Cast: Marlon Brando, Al Pacino, James Caan\\n\"\n",
    "            \"Budget: $6 million\\n\"\n",
    "            \"Box Office: $250–291 million\\n\"\n",
    "            \"Genre: Crime, Drama\\n\"\n",
    "            \"Synopsis: The aging patriarch of an organized crime dynasty transfers control of his empire to his reluctant son.\"\n",
    "        ),\n",
    "    },\n",
    "]"
   ]
  },
  {
   "cell_type": "code",
   "execution_count": 8,
   "id": "b0260754",
   "metadata": {},
   "outputs": [
    {
     "name": "stdout",
     "output_type": "stream",
     "text": [
      "Title: Parasite\n",
      "Director: Bong Joon-ho\n",
      "Main Cast: Song Kang-ho, Lee Sun-kyun, Cho Yeo-jeong\n",
      "Budget: $11 million\n",
      "Box Office: $266.8 million\n",
      "Genre: Thriller, Drama\n",
      "Synopsis: A poor family schemes to infiltrate a wealthy household, leading to unexpected and darkly comedic consequences."
     ]
    },
    {
     "data": {
      "text/plain": [
       "AIMessageChunk(content='Title: Parasite\\nDirector: Bong Joon-ho\\nMain Cast: Song Kang-ho, Lee Sun-kyun, Cho Yeo-jeong\\nBudget: $11 million\\nBox Office: $266.8 million\\nGenre: Thriller, Drama\\nSynopsis: A poor family schemes to infiltrate a wealthy household, leading to unexpected and darkly comedic consequences.')"
      ]
     },
     "execution_count": 8,
     "metadata": {},
     "output_type": "execute_result"
    }
   ],
   "source": [
    "from langchain.prompts import ChatPromptTemplate\n",
    "from langchain.prompts.few_shot import FewShotChatMessagePromptTemplate\n",
    "\n",
    "example_prompt = ChatPromptTemplate.from_messages(\n",
    "    [\n",
    "        (\"human\", \"Tell me about the movie {movie}.\"),\n",
    "        (\"ai\", \"{answer}\"),\n",
    "    ]\n",
    ")\n",
    "\n",
    "few_shot_prompt = FewShotChatMessagePromptTemplate(\n",
    "    example_prompt=example_prompt,\n",
    "    examples=examples,\n",
    ")\n",
    "\n",
    "final_prompt = ChatPromptTemplate.from_messages(\n",
    "    [\n",
    "        (\n",
    "            \"system\",\n",
    "            \"You are an intelligent movie expert. Respond with concise, accurate, and engaging information about movies.\",\n",
    "        ),\n",
    "        few_shot_prompt,\n",
    "        (\"human\", \"Tell me about the movie {movie}.\"),\n",
    "    ]\n",
    ")\n",
    "\n",
    "chain = final_prompt | chat\n",
    "chain.invoke({\"movie\": \"Parasite\"})"
   ]
  }
 ],
 "metadata": {
  "kernelspec": {
   "display_name": "env (3.11.6)",
   "language": "python",
   "name": "python3"
  },
  "language_info": {
   "codemirror_mode": {
    "name": "ipython",
    "version": 3
   },
   "file_extension": ".py",
   "mimetype": "text/x-python",
   "name": "python",
   "nbconvert_exporter": "python",
   "pygments_lexer": "ipython3",
   "version": "3.11.6"
  }
 },
 "nbformat": 4,
 "nbformat_minor": 5
}
