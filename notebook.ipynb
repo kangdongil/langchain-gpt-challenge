{
 "cells": [
  {
   "cell_type": "code",
   "execution_count": 1,
   "id": "356260ff",
   "metadata": {},
   "outputs": [],
   "source": [
    "from langchain.chat_models import ChatOpenAI\n",
    "from langchain.callbacks import StreamingStdOutCallbackHandler\n",
    "\n",
    "chat = ChatOpenAI(\n",
    "    model=\"gpt-3.5-turbo\",\n",
    "    temperature=0.1,\n",
    "    streaming=True,\n",
    "    callbacks=[StreamingStdOutCallbackHandler()],\n",
    ")"
   ]
  },
  {
   "cell_type": "code",
   "execution_count": 15,
   "id": "b0260754",
   "metadata": {},
   "outputs": [
    {
     "name": "stdout",
     "output_type": "stream",
     "text": [
      "Python\n",
      "\n",
      "Graceful code dances,\n",
      "Indentation whispers soft,\n",
      "Python, elegant.\n",
      "\n",
      "1. Graceful code dances,\n",
      "   - The poet describes Python code as graceful and elegant, suggesting that writing code in Python is a smooth and aesthetically pleasing process.\n",
      "   \n",
      "2. Indentation whispers soft,\n",
      "   - This line highlights the importance of indentation in Python, which is not only a syntax requirement but also contributes to the readability and structure of the code.\n",
      "   \n",
      "3. Python, elegant.\n",
      "   - The final line reinforces the overall theme of elegance associated with Python, emphasizing its simplicity and beauty in programming."
     ]
    },
    {
     "data": {
      "text/plain": [
       "AIMessageChunk(content='1. Graceful code dances,\\n   - The poet describes Python code as graceful and elegant, suggesting that writing code in Python is a smooth and aesthetically pleasing process.\\n   \\n2. Indentation whispers soft,\\n   - This line highlights the importance of indentation in Python, which is not only a syntax requirement but also contributes to the readability and structure of the code.\\n   \\n3. Python, elegant.\\n   - The final line reinforces the overall theme of elegance associated with Python, emphasizing its simplicity and beauty in programming.')"
      ]
     },
     "execution_count": 15,
     "metadata": {},
     "output_type": "execute_result"
    }
   ],
   "source": [
    "from langchain.prompts import ChatPromptTemplate\n",
    "\n",
    "haiku_writer_prompt = ChatPromptTemplate.from_messages(\n",
    "    [\n",
    "        (\n",
    "            \"system\",\n",
    "            \"\"\"\n",
    "         You are a poet who writes Haikus about programming languages.\n",
    "         Each Haiku must follow the traditional 5-7-5 syllable structure.\n",
    "        The tone should be reflective and elegant, and each poem must relate meaningfully to the essence of the given programming language.\n",
    "        Begin by displaying the title at the top, followed by Haiku below.\n",
    "        DO NOT include explanations or extra lines—just output the Haiku.\n",
    "         \"\"\",\n",
    "        ),\n",
    "        (\"human\", \"Write a haiku about {language}.\"),\n",
    "    ]\n",
    ")\n",
    "haiku_curator_prompt = ChatPromptTemplate.from_messages(\n",
    "    [\n",
    "        (\n",
    "            \"system\",\n",
    "            \"\"\"\n",
    "         You are an literary analysis expert explaining Haikus about programming languages.\n",
    "         After add an empty line, explain the poem line by line using numbered bullets.\n",
    "         DO NOT modify, paraphrase, or repeat the Haiku.\n",
    "         Your tone should be clear and insightful, but concise.\n",
    "         AVOID excessive elaboration.\n",
    "         \"\"\",\n",
    "        ),\n",
    "        (\"human\", \"Explain this haiku, {haiku}\"),\n",
    "    ]\n",
    ")\n",
    "\n",
    "haiku_writer_chain = haiku_writer_prompt | chat\n",
    "haiku_curator_chain = haiku_curator_prompt | chat\n",
    "\n",
    "final_chain = {\"haiku\": haiku_writer_chain} | haiku_curator_chain\n",
    "final_chain.invoke({\"language\": \"python\"})"
   ]
  }
 ],
 "metadata": {
  "kernelspec": {
   "display_name": "env (3.11.6)",
   "language": "python",
   "name": "python3"
  },
  "language_info": {
   "codemirror_mode": {
    "name": "ipython",
    "version": 3
   },
   "file_extension": ".py",
   "mimetype": "text/x-python",
   "name": "python",
   "nbconvert_exporter": "python",
   "pygments_lexer": "ipython3",
   "version": "3.11.6"
  }
 },
 "nbformat": 4,
 "nbformat_minor": 5
}
